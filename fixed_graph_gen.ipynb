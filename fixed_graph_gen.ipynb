{
 "cells": [
  {
   "cell_type": "code",
   "execution_count": 20,
   "id": "089916e0-d3a9-46d6-a1b0-f3d1d46c4728",
   "metadata": {
    "tags": []
   },
   "outputs": [
    {
     "name": "stdout",
     "output_type": "stream",
     "text": [
      "tensor([0.], device='cuda:0')\n",
      "2.1.0\n",
      "graph-tool version: 2.46\n"
     ]
    }
   ],
   "source": [
    "import torch\n",
    "torch.cuda.is_available()\n",
    "print(torch.zeros(1).cuda())\n",
    "\n",
    "import torch_geometric\n",
    "import torch_geometric.nn as pyg_nn\n",
    "from torch_sparse import SparseTensor, matmul\n",
    "from torch.utils.data import DataLoader\n",
    "import torch.nn as nn\n",
    "import torch.nn.functional as F\n",
    "from torch_geometric.nn import SAGEConv\n",
    "print(torch_geometric.__version__)\n",
    "\n",
    "import torch_scatter\n",
    "import torch.nn as nn\n",
    "import torch.nn.functional as F\n",
    "\n",
    "import torch_geometric.utils as pyg_utils\n",
    "\n",
    "from torch import Tensor\n",
    "from typing import Union, Tuple, Optional\n",
    "from torch_geometric.typing import (OptPairTensor, Adj, Size, NoneType, OptTensor)\n",
    "\n",
    "from torch.nn import Parameter, Linear\n",
    "from torch_sparse import SparseTensor, set_diag\n",
    "from torch_geometric.nn.conv import MessagePassing\n",
    "from torch_geometric.utils import remove_self_loops, add_self_loops, softmax\n",
    "\n",
    "import networkx as nx\n",
    "from deepsnap.hetero_graph import HeteroGraph\n",
    "import copy\n",
    "from copy import deepcopy\n",
    "import pickle\n",
    "\n",
    "import deepsnap\n",
    "from deepsnap.graph import Graph\n",
    "from deepsnap.batch import Batch\n",
    "from deepsnap.dataset import GraphDataset\n",
    "from deepsnap.hetero_gnn import forward_op\n",
    "from deepsnap.hetero_graph import HeteroGraph\n",
    "from sklearn.metrics import f1_score, roc_auc_score\n",
    "\n",
    "import numpy as np\n",
    "import pandas as pd\n",
    "import matplotlib.pyplot as plt\n",
    "%matplotlib inline\n",
    "\n",
    "import json\n",
    "from pathlib import Path as Data_Path\n",
    "from os import listdir\n",
    "from os.path import isfile, join\n",
    "from itertools import combinations\n",
    "from tqdm.notebook import tqdm\n",
    "\n",
    "# import graph_tool.all as gt\n",
    "import graph_tool.all as gt\n",
    "import json\n",
    "print(\"graph-tool version: {}\".format(gt.__version__.split(' ')[0]))"
   ]
  },
  {
   "cell_type": "code",
   "execution_count": 21,
   "id": "c1913c2b-5dfe-42a5-a13a-7e13a0e5709f",
   "metadata": {
    "tags": []
   },
   "outputs": [],
   "source": [
    "def json2graph(g, json_files):\n",
    "    \n",
    "    # dictionary to keep track of playlists and tracks already added to graph\n",
    "    playlist_dict = {}\n",
    "    track_dict = {}\n",
    "    global_edge_list = []\n",
    "    \n",
    "    for json_file in json_files:\n",
    "        data_json = json.load(open(json_file, 'r'))\n",
    "        \n",
    "        # add playlist nodes\n",
    "        playlist_attrs = []\n",
    "        # for i, playlist in enumerate(data_json['playlists']):\n",
    "        for playlist in data_json['playlists']:\n",
    "            # if playlist['pid'] not in playlist_dict:\n",
    "            playlist_attrs.append({'pid': playlist['pid'], 'pl_name': playlist['name'], 'pl_type': 'playlist'})\n",
    "            playlist_dict[playlist['pid']] = playlist['name']\n",
    " \n",
    "        for node_attrs in playlist_attrs:\n",
    "            if 'pl_name' in node_attrs:\n",
    "                v1 = g.add_vertex()\n",
    "                for key, value in node_attrs.items():\n",
    "                    g.vp[key][v1] = value\n",
    "                    \n",
    "        # add track nodes and edges to playlists\n",
    "                               \n",
    "        # for i, playlist in enumerate(data_json['playlists']):\n",
    "        for playlist in data_json['playlists']:\n",
    "            # print(playlist['pid'])\n",
    "            playlist_edge_list=[]\n",
    "            tracks_list = playlist['tracks']\n",
    "            for track in tracks_list:\n",
    "                pid = playlist['pid']\n",
    "                if track['track_uri'] not in track_dict:\n",
    "                    v2 = g.add_vertex()\n",
    "                    g.vp['tr_uri'][v2] = track['track_uri']\n",
    "                    g.vp['tr_name'][v2] = track['track_name']\n",
    "                    g.vp['tr_type'][v2] = 'track'\n",
    "                    track_dict[track['track_uri']] = v2\n",
    "                else:\n",
    "                    v2 = track_dict[track['track_uri']]\n",
    "                # print(track_dict[track['track_uri']])\n",
    "                playlist_edge_list.append((pid, track_dict[track['track_uri']]))\n",
    "            playlist_edge_list = sorted(list(set(playlist_edge_list)))\n",
    "            for node_pair in playlist_edge_list:\n",
    "                g.add_edge(node_pair[0], node_pair[1])\n",
    "            global_edge_list.append(playlist_edge_list)\n",
    "                # playlist_edge_list.append((playlist['pid'], track_dict[track['track_uri']]))\n",
    "            # playlist_edge_list = list(set(playlist_edge_list))\n",
    "            # global_edge_list.append(playlist_edge_list)\n",
    "        print(f'{json_file} processed!')\n",
    "    print(f'playlist_dict length: {len(playlist_dict)}')\n",
    "    print(f'track_dict length: {len(track_dict)}')\n",
    "    return global_edge_list, playlist_dict, track_dict\n",
    "\n",
    "    \n",
    "    # return playlist_edge_list, playlist_dict, track_dict"
   ]
  },
  {
   "cell_type": "code",
   "execution_count": 22,
   "id": "63f0d40b-0a31-452e-a67c-8dbe5a46d3e0",
   "metadata": {
    "tags": []
   },
   "outputs": [],
   "source": [
    "fixed_graph = gt.Graph(directed=False)\n",
    "\n",
    "#playlist attributes\n",
    "fixed_graph.vp['pid'] = fixed_graph.new_vertex_property('string')\n",
    "fixed_graph.vp['pl_name'] = fixed_graph.new_vertex_property('string')\n",
    "fixed_graph.vp['pl_type'] = fixed_graph.new_vertex_property('string')\n",
    "#track attributes\n",
    "fixed_graph.vp['tr_uri'] = fixed_graph.new_vertex_property('string')\n",
    "fixed_graph.vp['tr_name'] = fixed_graph.new_vertex_property('string')\n",
    "fixed_graph.vp['tr_type'] = fixed_graph.new_vertex_property('string')\n",
    "#artist attibutes\n",
    "fixed_graph.vp['ar_uri'] = fixed_graph.new_vertex_property('string')\n",
    "fixed_graph.vp['ar_name'] = fixed_graph.new_vertex_property('string')\n",
    "fixed_graph.vp['ar_type'] = fixed_graph.new_vertex_property('string')\n"
   ]
  },
  {
   "cell_type": "code",
   "execution_count": 23,
   "id": "86de04d1-af07-4795-9d7a-67327a52c4c0",
   "metadata": {
    "tags": []
   },
   "outputs": [],
   "source": [
    "import os\n",
    "folder_path = \"../data_subset/\"\n",
    "file_paths = []\n",
    "for root, dirs, files in os.walk(folder_path):\n",
    "    for file in files:\n",
    "        file_paths.append(os.path.join(root, file))"
   ]
  },
  {
   "cell_type": "code",
   "execution_count": 24,
   "id": "3f8162e0-0a27-4593-9f00-d45dd3805c39",
   "metadata": {
    "tags": []
   },
   "outputs": [
    {
     "name": "stdout",
     "output_type": "stream",
     "text": [
      "../data_subset/mpd.slice.0-999.json processed!\n",
      "../data_subset/mpd.slice.1000-1999.json processed!\n",
      "../data_subset/mpd.slice.2000-2999.json processed!\n",
      "../data_subset/mpd.slice.3000-3999.json processed!\n",
      "../data_subset/mpd.slice.4000-4999.json processed!\n",
      "../data_subset/mpd.slice.5000-5999.json processed!\n",
      "../data_subset/mpd.slice.6000-6999.json processed!\n",
      "../data_subset/mpd.slice.7000-7999.json processed!\n",
      "../data_subset/mpd.slice.8000-8999.json processed!\n",
      "../data_subset/mpd.slice.9000-9999.json processed!\n",
      "../data_subset/mpd.slice.10000-10999.json processed!\n",
      "../data_subset/mpd.slice.11000-11999.json processed!\n",
      "../data_subset/mpd.slice.12000-12999.json processed!\n",
      "../data_subset/mpd.slice.13000-13999.json processed!\n",
      "../data_subset/mpd.slice.14000-14999.json processed!\n",
      "../data_subset/mpd.slice.15000-15999.json processed!\n",
      "../data_subset/mpd.slice.16000-16999.json processed!\n",
      "../data_subset/mpd.slice.17000-17999.json processed!\n",
      "../data_subset/mpd.slice.18000-18999.json processed!\n",
      "../data_subset/mpd.slice.19000-19999.json processed!\n",
      "../data_subset/mpd.slice.20000-20999.json processed!\n",
      "../data_subset/mpd.slice.21000-21999.json processed!\n",
      "../data_subset/mpd.slice.22000-22999.json processed!\n",
      "../data_subset/mpd.slice.23000-23999.json processed!\n",
      "../data_subset/mpd.slice.24000-24999.json processed!\n",
      "../data_subset/mpd.slice.25000-25999.json processed!\n",
      "../data_subset/mpd.slice.26000-26999.json processed!\n",
      "../data_subset/mpd.slice.27000-27999.json processed!\n",
      "../data_subset/mpd.slice.28000-28999.json processed!\n",
      "../data_subset/mpd.slice.29000-29999.json processed!\n",
      "../data_subset/mpd.slice.30000-30999.json processed!\n",
      "../data_subset/mpd.slice.31000-31999.json processed!\n",
      "../data_subset/mpd.slice.32000-32999.json processed!\n",
      "../data_subset/mpd.slice.33000-33999.json processed!\n",
      "../data_subset/mpd.slice.34000-34999.json processed!\n",
      "../data_subset/mpd.slice.35000-35999.json processed!\n",
      "../data_subset/mpd.slice.36000-36999.json processed!\n",
      "../data_subset/mpd.slice.37000-37999.json processed!\n",
      "../data_subset/mpd.slice.38000-38999.json processed!\n",
      "../data_subset/mpd.slice.39000-39999.json processed!\n",
      "../data_subset/mpd.slice.40000-40999.json processed!\n",
      "../data_subset/mpd.slice.41000-41999.json processed!\n",
      "../data_subset/mpd.slice.42000-42999.json processed!\n",
      "../data_subset/mpd.slice.43000-43999.json processed!\n",
      "../data_subset/mpd.slice.44000-44999.json processed!\n",
      "../data_subset/mpd.slice.45000-45999.json processed!\n",
      "../data_subset/mpd.slice.46000-46999.json processed!\n",
      "../data_subset/mpd.slice.47000-47999.json processed!\n",
      "../data_subset/mpd.slice.48000-48999.json processed!\n",
      "../data_subset/mpd.slice.49000-49999.json processed!\n",
      "../data_subset/mpd.slice.50000-50999.json processed!\n",
      "../data_subset/mpd.slice.51000-51999.json processed!\n",
      "../data_subset/mpd.slice.52000-52999.json processed!\n",
      "../data_subset/mpd.slice.53000-53999.json processed!\n",
      "../data_subset/mpd.slice.54000-54999.json processed!\n",
      "../data_subset/mpd.slice.55000-55999.json processed!\n",
      "../data_subset/mpd.slice.56000-56999.json processed!\n",
      "../data_subset/mpd.slice.57000-57999.json processed!\n",
      "../data_subset/mpd.slice.58000-58999.json processed!\n",
      "../data_subset/mpd.slice.59000-59999.json processed!\n",
      "../data_subset/mpd.slice.60000-60999.json processed!\n",
      "../data_subset/mpd.slice.61000-61999.json processed!\n",
      "../data_subset/mpd.slice.62000-62999.json processed!\n",
      "../data_subset/mpd.slice.63000-63999.json processed!\n",
      "../data_subset/mpd.slice.64000-64999.json processed!\n",
      "../data_subset/mpd.slice.65000-65999.json processed!\n",
      "../data_subset/mpd.slice.66000-66999.json processed!\n",
      "../data_subset/mpd.slice.67000-67999.json processed!\n",
      "../data_subset/mpd.slice.68000-68999.json processed!\n",
      "../data_subset/mpd.slice.69000-69999.json processed!\n",
      "../data_subset/mpd.slice.70000-70999.json processed!\n",
      "../data_subset/mpd.slice.71000-71999.json processed!\n",
      "../data_subset/mpd.slice.72000-72999.json processed!\n",
      "../data_subset/mpd.slice.73000-73999.json processed!\n",
      "../data_subset/mpd.slice.74000-74999.json processed!\n",
      "../data_subset/mpd.slice.75000-75999.json processed!\n",
      "../data_subset/mpd.slice.76000-76999.json processed!\n",
      "../data_subset/mpd.slice.77000-77999.json processed!\n",
      "../data_subset/mpd.slice.78000-78999.json processed!\n",
      "../data_subset/mpd.slice.79000-79999.json processed!\n",
      "../data_subset/mpd.slice.80000-80999.json processed!\n",
      "../data_subset/mpd.slice.81000-81999.json processed!\n",
      "../data_subset/mpd.slice.82000-82999.json processed!\n",
      "../data_subset/mpd.slice.83000-83999.json processed!\n",
      "../data_subset/mpd.slice.84000-84999.json processed!\n",
      "../data_subset/mpd.slice.85000-85999.json processed!\n",
      "../data_subset/mpd.slice.86000-86999.json processed!\n",
      "../data_subset/mpd.slice.87000-87999.json processed!\n",
      "../data_subset/mpd.slice.88000-88999.json processed!\n",
      "../data_subset/mpd.slice.89000-89999.json processed!\n",
      "../data_subset/mpd.slice.90000-90999.json processed!\n",
      "../data_subset/mpd.slice.91000-91999.json processed!\n",
      "../data_subset/mpd.slice.92000-92999.json processed!\n",
      "../data_subset/mpd.slice.93000-93999.json processed!\n",
      "../data_subset/mpd.slice.94000-94999.json processed!\n",
      "../data_subset/mpd.slice.95000-95999.json processed!\n",
      "../data_subset/mpd.slice.96000-96999.json processed!\n",
      "../data_subset/mpd.slice.97000-97999.json processed!\n",
      "../data_subset/mpd.slice.98000-98999.json processed!\n",
      "../data_subset/mpd.slice.99000-99999.json processed!\n",
      "../data_subset/mpd.slice.100000-100999.json processed!\n",
      "playlist_dict length: 101000\n",
      "track_dict length: 685660\n"
     ]
    }
   ],
   "source": [
    "global_edge_list, playlist_dict, track_dict = json2graph(fixed_graph, file_paths)"
   ]
  },
  {
   "cell_type": "code",
   "execution_count": 25,
   "id": "127b91ca-5df1-43d1-b217-f057fb2eb9a5",
   "metadata": {},
   "outputs": [
    {
     "data": {
      "text/plain": [
       "[(1, <Vertex object with index '1051' at 0x7fb8f24d6ac0>),\n",
       " (1, <Vertex object with index '1052' at 0x7fb8f24d6a40>),\n",
       " (1, <Vertex object with index '1053' at 0x7fb8f24d6b40>),\n",
       " (1, <Vertex object with index '1054' at 0x7fb8f24d6bc0>),\n",
       " (1, <Vertex object with index '1055' at 0x7fb8f24d6c40>),\n",
       " (1, <Vertex object with index '1056' at 0x7fb8f24d6cc0>),\n",
       " (1, <Vertex object with index '1057' at 0x7fb8f24d6d40>),\n",
       " (1, <Vertex object with index '1058' at 0x7fb8f24d6dc0>),\n",
       " (1, <Vertex object with index '1059' at 0x7fb8f24d6e40>),\n",
       " (1, <Vertex object with index '1060' at 0x7fb8f24d6f40>),\n",
       " (1, <Vertex object with index '1061' at 0x7fb8f24d6fc0>),\n",
       " (1, <Vertex object with index '1062' at 0x7fb8f24d7040>),\n",
       " (1, <Vertex object with index '1063' at 0x7fb8f24d70c0>),\n",
       " (1, <Vertex object with index '1064' at 0x7fb8f24d7140>),\n",
       " (1, <Vertex object with index '1065' at 0x7fb8f24d71c0>),\n",
       " (1, <Vertex object with index '1066' at 0x7fb8f24d7240>),\n",
       " (1, <Vertex object with index '1067' at 0x7fb8f24d72c0>),\n",
       " (1, <Vertex object with index '1068' at 0x7fb8f24d6ec0>),\n",
       " (1, <Vertex object with index '1069' at 0x7fb8f24d7340>),\n",
       " (1, <Vertex object with index '1070' at 0x7fb8f24d73c0>),\n",
       " (1, <Vertex object with index '1071' at 0x7fb8f24d7440>),\n",
       " (1, <Vertex object with index '1072' at 0x7fb8f24d74c0>),\n",
       " (1, <Vertex object with index '1073' at 0x7fb8f24d7540>),\n",
       " (1, <Vertex object with index '1074' at 0x7fb8f24d75c0>),\n",
       " (1, <Vertex object with index '1075' at 0x7fb8f24d7640>),\n",
       " (1, <Vertex object with index '1076' at 0x7fb8f24d76c0>),\n",
       " (1, <Vertex object with index '1077' at 0x7fb8f24d7740>),\n",
       " (1, <Vertex object with index '1078' at 0x7fb8f24d77c0>),\n",
       " (1, <Vertex object with index '1079' at 0x7fb8f24d7840>),\n",
       " (1, <Vertex object with index '1080' at 0x7fb8f24d78c0>),\n",
       " (1, <Vertex object with index '1081' at 0x7fb8f24d7940>),\n",
       " (1, <Vertex object with index '1082' at 0x7fb8f24d79c0>),\n",
       " (1, <Vertex object with index '1083' at 0x7fb8f24d7a40>),\n",
       " (1, <Vertex object with index '1084' at 0x7fb8f24d7ac0>),\n",
       " (1, <Vertex object with index '1085' at 0x7fb8f24d7b40>),\n",
       " (1, <Vertex object with index '1086' at 0x7fb8f24d7bc0>),\n",
       " (1, <Vertex object with index '1087' at 0x7fb8f24d7c40>),\n",
       " (1, <Vertex object with index '1088' at 0x7fb8f24d7cc0>),\n",
       " (1, <Vertex object with index '1089' at 0x7fb8f24d7d40>)]"
      ]
     },
     "execution_count": 25,
     "metadata": {},
     "output_type": "execute_result"
    }
   ],
   "source": [
    "global_edge_list[1]"
   ]
  },
  {
   "cell_type": "code",
   "execution_count": 26,
   "id": "83d1abf2-59c5-4081-a52d-85e668934554",
   "metadata": {
    "tags": []
   },
   "outputs": [
    {
     "name": "stdout",
     "output_type": "stream",
     "text": [
      "Number of vertices: 786660\n",
      "Number of edges: 6656840\n"
     ]
    }
   ],
   "source": [
    "print(\"Number of vertices:\", fixed_graph.num_vertices())\n",
    "print(\"Number of edges:\", fixed_graph.num_edges())"
   ]
  },
  {
   "cell_type": "code",
   "execution_count": 27,
   "id": "c92ba8a0-6dab-4259-b7c4-190ed8381119",
   "metadata": {
    "tags": []
   },
   "outputs": [
    {
     "name": "stdout",
     "output_type": "stream",
     "text": [
      "num_playlists: 101000\n",
      "num_tracks: 685660\n"
     ]
    }
   ],
   "source": [
    "count_pl = sum(1 for v in fixed_graph.vertices() if fixed_graph.vp.pl_type[v] == \"playlist\")\n",
    "print(f'num_playlists: {count_pl}')\n",
    "count_tr = sum(1 for v in fixed_graph.vertices() if fixed_graph.vp.tr_type[v] == \"track\")\n",
    "print(f'num_tracks: {count_tr}')\n"
   ]
  },
  {
   "cell_type": "code",
   "execution_count": 28,
   "id": "cb922c3a-9e80-4d74-9551-d904b7e61d6c",
   "metadata": {
    "tags": []
   },
   "outputs": [],
   "source": [
    "largest_comp = gt.extract_largest_component(fixed_graph)\n",
    "g_nx = nx.Graph()\n",
    "\n",
    "# Add edges to NetworkX graph in batches\n",
    "for v in largest_comp.vertices():\n",
    "    if(largest_comp.vp.pl_type[v]=='playlist'):\n",
    "        typ='playlist'\n",
    "    elif(largest_comp.vp.tr_type[v] == \"track\"):\n",
    "        typ='track'\n",
    "    node_attributes = {'name':largest_comp.vp.pl_name[v], 'uri':largest_comp.vp.tr_uri[v], 'type':typ}\n",
    "    g_nx.add_node(int(v), **node_attributes)\n",
    "for e in largest_comp.edges():\n",
    "    g_nx.add_edge(int(e.source()), int(e.target()))\n",
    "    \n",
    "mapping = {old_label: new_label for new_label, old_label in enumerate(sorted(g_nx.nodes()))}\n",
    "\n",
    "# reindex the nodes in the graph\n",
    "g_nx = nx.relabel_nodes(g_nx, mapping)"
   ]
  },
  {
   "cell_type": "code",
   "execution_count": 29,
   "id": "964c05ee-e5b1-4fd6-829d-4d9f660836c0",
   "metadata": {
    "tags": []
   },
   "outputs": [
    {
     "name": "stdout",
     "output_type": "stream",
     "text": [
      "Number of vertices: 690613\n",
      "Number of edges: 6656794\n"
     ]
    }
   ],
   "source": [
    "print(\"Number of vertices:\", largest_comp.num_vertices())\n",
    "print(\"Number of edges:\", largest_comp.num_edges())"
   ]
  },
  {
   "cell_type": "code",
   "execution_count": 30,
   "id": "35134bb3-525f-4f4a-a6e6-58154c819df1",
   "metadata": {
    "tags": []
   },
   "outputs": [
    {
     "name": "stdout",
     "output_type": "stream",
     "text": [
      "num_playlists: 4999\n",
      "num_tracks: 685614\n"
     ]
    }
   ],
   "source": [
    "count_pl = sum(1 for v in largest_comp.vertices() if fixed_graph.vp.pl_type[v] == \"playlist\")\n",
    "print(f'num_playlists: {count_pl}')\n",
    "count_tr = sum(1 for v in largest_comp.vertices() if fixed_graph.vp.tr_type[v] == \"track\")\n",
    "print(f'num_tracks: {count_tr}')"
   ]
  },
  {
   "cell_type": "code",
   "execution_count": 31,
   "id": "c2c598d8-9114-4171-9d23-f51a081b59a6",
   "metadata": {
    "tags": []
   },
   "outputs": [
    {
     "name": "stdout",
     "output_type": "stream",
     "text": [
      "Number of vertices: 690613\n",
      "Number of edges: 6655333\n"
     ]
    }
   ],
   "source": [
    "print(\"Number of vertices:\", g_nx.number_of_nodes())\n",
    "print(\"Number of edges:\", g_nx.number_of_edges())"
   ]
  },
  {
   "cell_type": "code",
   "execution_count": 32,
   "id": "e2983e02-e19c-4a24-9f7c-27ef39314eba",
   "metadata": {
    "tags": []
   },
   "outputs": [
    {
     "name": "stdout",
     "output_type": "stream",
     "text": [
      "[]\n"
     ]
    }
   ],
   "source": [
    "#check for duplicate track nodes\n",
    "\n",
    "# create a dictionary to store the attribute values\n",
    "attr_dict = {}\n",
    "for node in g_nx.nodes():\n",
    "    attr = g_nx.nodes[node]['uri']\n",
    "    if attr in attr_dict:\n",
    "        attr_dict[attr].append(node)\n",
    "    else:\n",
    "        attr_dict[attr] = [node]\n",
    "        \n",
    "del attr_dict['']\n",
    "\n",
    "keys_with_duplicates = [key for key, values in attr_dict.items() if len(values) > 1]\n",
    "\n",
    "# print the keys with duplicates\n",
    "print(keys_with_duplicates)"
   ]
  },
  {
   "cell_type": "code",
   "execution_count": 33,
   "id": "3d9e9783-f28f-4792-a655-ec0dc36ac554",
   "metadata": {
    "tags": []
   },
   "outputs": [
    {
     "name": "stdout",
     "output_type": "stream",
     "text": [
      "num_playlists: 4999\n",
      "num_tracks: 685614\n"
     ]
    }
   ],
   "source": [
    "num_playlists = len([n for n, d in g_nx.nodes(data=True) if d.get('type') == 'playlist'])\n",
    "print(f'num_playlists: {num_playlists}')\n",
    "num_tracks = len([n for n, d in g_nx.nodes(data=True) if d.get('type') == 'track'])\n",
    "print(f'num_tracks: {num_tracks}')"
   ]
  },
  {
   "cell_type": "code",
   "execution_count": 34,
   "id": "3af64fa8-eb90-4075-a833-b6e97b81bc19",
   "metadata": {
    "tags": []
   },
   "outputs": [],
   "source": [
    "filename = 'fixed_graph.pickle'\n",
    "with open(filename, 'wb') as f:\n",
    "    pickle.dump(g_nx, f)"
   ]
  },
  {
   "cell_type": "code",
   "execution_count": null,
   "id": "ba30c2a6-802a-4298-8381-924479e3c3ea",
   "metadata": {},
   "outputs": [],
   "source": []
  }
 ],
 "metadata": {
  "kernelspec": {
   "display_name": "Python 3 (ipykernel)",
   "language": "python",
   "name": "python3"
  },
  "language_info": {
   "codemirror_mode": {
    "name": "ipython",
    "version": 3
   },
   "file_extension": ".py",
   "mimetype": "text/x-python",
   "name": "python",
   "nbconvert_exporter": "python",
   "pygments_lexer": "ipython3",
   "version": "3.11.0"
  }
 },
 "nbformat": 4,
 "nbformat_minor": 5
}
